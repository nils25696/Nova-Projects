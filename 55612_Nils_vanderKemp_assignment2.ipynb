{
 "cells": [
  {
   "cell_type": "markdown",
   "metadata": {},
   "source": [
    "# STUDENT NAME, STUDENT NUMBER (TO BE FILLED BY THE STUDENT)"
   ]
  },
  {
   "cell_type": "markdown",
   "metadata": {},
   "source": [
    "# Advanced Data Analysis - Assignment 2\n",
    "\n",
    "This notebook contains the **Assignment 2** of the Advanced Data Analysis course.\n",
    "\n",
    "The topic of the assignment consists in applying regression on National Health and Nutrition Examination data.\n",
    "\n",
    "### DEADLINE: 12-October-2022\n",
    "\n",
    "The assignment is **individual**. You should submit your resolution on Moodle by the deadline. While doing this assignment, you can use or adapt any code from the lectures if you want. \n",
    "\n",
    "Students have three grace days that they can use for all assignments and group project, which allows them to deliver the projects late. Use these grace days carefully.\n",
    "\n",
    "[//]: # (We will be using latex for fomulas)\n",
    "\n",
    "<script type=\"text/javascript\"\n",
    "        src=\"https://cdnjs.cloudflare.com/ajax/libs/mathjax/2.7.0/MathJax.js?config=TeX-AMS_CHTML\"></script>\n",
    "        \n",
    "### Notebook Instructions\n",
    "* You only need to deliver this notebook file (notice that, a notebook file extension is filename.ipynb) - Data files must not be submitted\n",
    "* You don't need to create additional cells. Try to use the ones that are already available\n",
    "* The notebook should be delivered with the outputs already available\n"
   ]
  },
  {
   "cell_type": "markdown",
   "metadata": {},
   "source": [
    "# Dataset"
   ]
  },
  {
   "cell_type": "markdown",
   "metadata": {},
   "source": [
    "The file children.csv contains a file with two columns. The first column is the age of each child in\n",
    "months, and the second the weight in Kg. The data is from the National Health and Nutrition Examination\n",
    "Survey of 2017-2018 and represents a sample of children up to 24 months old.\n",
    "\n",
    "The following code loads the children.csv file "
   ]
  },
  {
   "cell_type": "code",
   "execution_count": 1,
   "metadata": {},
   "outputs": [
    {
     "data": {
      "text/html": [
       "<div>\n",
       "<style scoped>\n",
       "    .dataframe tbody tr th:only-of-type {\n",
       "        vertical-align: middle;\n",
       "    }\n",
       "\n",
       "    .dataframe tbody tr th {\n",
       "        vertical-align: top;\n",
       "    }\n",
       "\n",
       "    .dataframe thead th {\n",
       "        text-align: right;\n",
       "    }\n",
       "</style>\n",
       "<table border=\"1\" class=\"dataframe\">\n",
       "  <thead>\n",
       "    <tr style=\"text-align: right;\">\n",
       "      <th></th>\n",
       "      <th>age</th>\n",
       "      <th>weight</th>\n",
       "    </tr>\n",
       "  </thead>\n",
       "  <tbody>\n",
       "    <tr>\n",
       "      <th>0</th>\n",
       "      <td>11.0</td>\n",
       "      <td>10.2</td>\n",
       "    </tr>\n",
       "    <tr>\n",
       "      <th>1</th>\n",
       "      <td>21.0</td>\n",
       "      <td>10.6</td>\n",
       "    </tr>\n",
       "    <tr>\n",
       "      <th>2</th>\n",
       "      <td>7.0</td>\n",
       "      <td>9.3</td>\n",
       "    </tr>\n",
       "    <tr>\n",
       "      <th>3</th>\n",
       "      <td>19.0</td>\n",
       "      <td>8.3</td>\n",
       "    </tr>\n",
       "    <tr>\n",
       "      <th>4</th>\n",
       "      <td>16.0</td>\n",
       "      <td>9.2</td>\n",
       "    </tr>\n",
       "  </tbody>\n",
       "</table>\n",
       "</div>"
      ],
      "text/plain": [
       "    age  weight\n",
       "0  11.0    10.2\n",
       "1  21.0    10.6\n",
       "2   7.0     9.3\n",
       "3  19.0     8.3\n",
       "4  16.0     9.2"
      ]
     },
     "execution_count": 1,
     "metadata": {},
     "output_type": "execute_result"
    }
   ],
   "source": [
    "# This code cell does not need to be changed\n",
    "import os\n",
    "import pandas as pd\n",
    "\n",
    "dataFileName = os.path.join(\"assignment2\", \"children.csv\")\n",
    "dataDF = pd.read_csv(dataFileName)\n",
    "dataDF.head()"
   ]
  },
  {
   "cell_type": "markdown",
   "metadata": {},
   "source": [
    "# Assignment"
   ]
  },
  {
   "cell_type": "markdown",
   "metadata": {},
   "source": [
    "In this assignment, we aim to predict the weight of a children until 24 monthts old based on child age. "
   ]
  },
  {
   "cell_type": "markdown",
   "metadata": {},
   "source": [
    "## Question 1\n",
    "\n",
    "In this question, we aim to create a linear regression model do predict the weight of a children based on his/her age. \n",
    "\n",
    "### **1.a)** Let's start by plotting the data in a scatter plot.  Is there any correlation between the weight and age of children? (complement visualization with a statistic information). In your opinion, is it reasonable to create a linear regression model to predict the weight of a children? (3 points out of 20). \n"
   ]
  },
  {
   "cell_type": "code",
   "execution_count": 2,
   "metadata": {},
   "outputs": [
    {
     "data": {
      "image/png": "[encoded data removed]",
      "text/plain": [
       "<Figure size 432x288 with 1 Axes>"
      ]
     },
     "metadata": {
      "needs_background": "light"
     },
     "output_type": "display_data"
    },
    {
     "name": "stdout",
     "output_type": "stream",
     "text": [
      "Correlation coefficient = 0.8796145418327413\n"
     ]
    }
   ],
   "source": [
    "import matplotlib.pyplot as plt\n",
    "\n",
    "# assign age and weight values to variables x and y\n",
    "x = dataDF[['age']].values\n",
    "y = dataDF[['weight']]\n",
    "\n",
    "# plot x and y in a scatter plot\n",
    "plt.scatter(x, y, c = \"darkblue\")\n",
    "plt.show()\n",
    "\n",
    "# calculate and print the correlation between weight and age\n",
    "corr = dataDF[[\"age\", \"weight\"]].corr()\n",
    "print(\"Correlation coefficient = {0}\".format(corr.iloc[0,1]))"
   ]
  },
  {
   "cell_type": "markdown",
   "metadata": {},
   "source": [
    "**Answer:** In my opinion it is reasonable to create a linear regression model to predict the weight of a children, because with a correlation coefficient of almost 0.88 there is a really strong positive linear relationship between age and weight."
   ]
  },
  {
   "cell_type": "markdown",
   "metadata": {},
   "source": [
    "### **1.b)** Build a linear regression model and estimate the true error (5 out of 20) "
   ]
  },
  {
   "cell_type": "code",
   "execution_count": 3,
   "metadata": {},
   "outputs": [
    {
     "name": "stdout",
     "output_type": "stream",
     "text": [
      "Estimation of the true error:  1.6836580920397402\n"
     ]
    }
   ],
   "source": [
    "from sklearn import linear_model\n",
    "from sklearn.metrics import mean_squared_error\n",
    "from sklearn.model_selection import train_test_split\n",
    "\n",
    "# split the data into train and test set\n",
    "train_set, test_set = train_test_split(dataDF, test_size = 0.2, random_state = 0)\n",
    "\n",
    "# assign weight and age training data to new variables\n",
    "y_train = train_set[[\"weight\"]]\n",
    "train_input = train_set[[\"age\"]]\n",
    "\n",
    "# assign weight and age test data to new variables\n",
    "y_test = test_set[[\"weight\"]]\n",
    "test_input = test_set[[\"age\"]]\n",
    "\n",
    "# train the model\n",
    "model = linear_model.LinearRegression()\n",
    "model.fit(train_input, y_train)\n",
    "\n",
    "# apply the model to the training set\n",
    "pred_train = model.predict(train_input)\n",
    "\n",
    "# apply the model to the test set\n",
    "pred_test = model.predict(test_input)\n",
    "\n",
    "# compute and print square error on test data\n",
    "error_test = mean_squared_error(y_test, pred_test)\n",
    "print(\"Estimation of the true error: \", error_test)  "
   ]
  },
  {
   "cell_type": "markdown",
   "metadata": {},
   "source": [
    "### **1.c)** Display in a visualization the data used to build the model as well as the model obtained. Finally,  write the equation of the model obtained (2 out of 20) "
   ]
  },
  {
   "cell_type": "code",
   "execution_count": 4,
   "metadata": {},
   "outputs": [
    {
     "data": {
      "image/png": "[encoded data removed]",
      "text/plain": [
       "<Figure size 432x288 with 1 Axes>"
      ]
     },
     "metadata": {
      "needs_background": "light"
     },
     "output_type": "display_data"
    },
    {
     "name": "stdout",
     "output_type": "stream",
     "text": [
      "Equation: y = 0.335925268136616x + 5.698643225574845\n"
     ]
    }
   ],
   "source": [
    "# plot the train and test data, as well as the linear regression line\n",
    "plt.scatter(train_input, y_train, c = 'skyblue')\n",
    "plt.scatter(test_input, y_test, c = 'mediumpurple')\n",
    "plt.plot(train_input.iloc[:,0], pred_train, c = 'red')\n",
    "plt.show()\n",
    "\n",
    "# print the equation of the model\n",
    "print(\"Equation: y = {0}x + {1}\".format(float(model.coef_), float(model.intercept_)))"
   ]
  },
  {
   "cell_type": "markdown",
   "metadata": {},
   "source": [
    "## Question 2 (10 points out of 20)"
   ]
  },
  {
   "cell_type": "markdown",
   "metadata": {},
   "source": [
    "Here, we aim to find out if we can create a better model to predict the weigth of children based on their age."
   ]
  },
  {
   "cell_type": "markdown",
   "metadata": {},
   "source": [
    "### **2.a)** Evaluate polynomial model of degrees 1 through 10. What degree would you choose in order to have a better model when compared to the model built previously? Why? (6 out of 20)"
   ]
  },
  {
   "cell_type": "code",
   "execution_count": 5,
   "metadata": {},
   "outputs": [
    {
     "data": {
      "text/html": [
       "<div>\n",
       "<style scoped>\n",
       "    .dataframe tbody tr th:only-of-type {\n",
       "        vertical-align: middle;\n",
       "    }\n",
       "\n",
       "    .dataframe tbody tr th {\n",
       "        vertical-align: top;\n",
       "    }\n",
       "\n",
       "    .dataframe thead th {\n",
       "        text-align: right;\n",
       "    }\n",
       "</style>\n",
       "<table border=\"1\" class=\"dataframe\">\n",
       "  <thead>\n",
       "    <tr style=\"text-align: right;\">\n",
       "      <th></th>\n",
       "      <th>degree</th>\n",
       "      <th>test_error</th>\n",
       "    </tr>\n",
       "  </thead>\n",
       "  <tbody>\n",
       "    <tr>\n",
       "      <th>9</th>\n",
       "      <td>10</td>\n",
       "      <td>-1.400844</td>\n",
       "    </tr>\n",
       "    <tr>\n",
       "      <th>7</th>\n",
       "      <td>8</td>\n",
       "      <td>-1.407285</td>\n",
       "    </tr>\n",
       "    <tr>\n",
       "      <th>2</th>\n",
       "      <td>3</td>\n",
       "      <td>-1.409529</td>\n",
       "    </tr>\n",
       "    <tr>\n",
       "      <th>3</th>\n",
       "      <td>4</td>\n",
       "      <td>-1.412721</td>\n",
       "    </tr>\n",
       "    <tr>\n",
       "      <th>8</th>\n",
       "      <td>9</td>\n",
       "      <td>-1.413343</td>\n",
       "    </tr>\n",
       "    <tr>\n",
       "      <th>6</th>\n",
       "      <td>7</td>\n",
       "      <td>-1.417251</td>\n",
       "    </tr>\n",
       "    <tr>\n",
       "      <th>4</th>\n",
       "      <td>5</td>\n",
       "      <td>-1.419276</td>\n",
       "    </tr>\n",
       "    <tr>\n",
       "      <th>5</th>\n",
       "      <td>6</td>\n",
       "      <td>-1.421643</td>\n",
       "    </tr>\n",
       "    <tr>\n",
       "      <th>1</th>\n",
       "      <td>2</td>\n",
       "      <td>-1.443860</td>\n",
       "    </tr>\n",
       "    <tr>\n",
       "      <th>0</th>\n",
       "      <td>1</td>\n",
       "      <td>-1.636245</td>\n",
       "    </tr>\n",
       "  </tbody>\n",
       "</table>\n",
       "</div>"
      ],
      "text/plain": [
       "   degree  test_error\n",
       "9      10   -1.400844\n",
       "7       8   -1.407285\n",
       "2       3   -1.409529\n",
       "3       4   -1.412721\n",
       "8       9   -1.413343\n",
       "6       7   -1.417251\n",
       "4       5   -1.419276\n",
       "5       6   -1.421643\n",
       "1       2   -1.443860\n",
       "0       1   -1.636245"
      ]
     },
     "execution_count": 5,
     "metadata": {},
     "output_type": "execute_result"
    }
   ],
   "source": [
    "from sklearn.preprocessing import PolynomialFeatures\n",
    "import numpy as np\n",
    "from sklearn.model_selection import cross_val_score\n",
    "import sklearn\n",
    "\n",
    "# create a dataframe with degrees 1 to 10\n",
    "df = pd.DataFrame({\"degree\" : range(1, 11)})\n",
    "\n",
    "# write a function to define the input data, used to fit the model\n",
    "def trans_data(degree):\n",
    "    polynomial_features = PolynomialFeatures(degree)\n",
    "    poly_trans = polynomial_features.fit_transform(x)\n",
    "    input_df = pd.DataFrame(poly_trans)\n",
    "    return input_df\n",
    "\n",
    "model = linear_model.LinearRegression()\n",
    "\n",
    "# append the dataframe with the negative mean squared error per degree and print it in descending order\n",
    "df['test_error'] = df['degree'].apply(lambda x: cross_val_score(model, trans_data(x), y, scoring = \"neg_mean_squared_error\", cv = 10).mean())\n",
    "df.sort_values('test_error', ascending = False) "
   ]
  },
  {
   "cell_type": "markdown",
   "metadata": {},
   "source": [
    "**Answer:** Actually, you could choose any degree between 2 and 10 and it will be more accurate than the previous model of degree 1. Anyways, I would choose degree 10, as it provides the lowest of all measured test errors. "
   ]
  },
  {
   "cell_type": "markdown",
   "metadata": {},
   "source": [
    "### **2.b)** Using the best polynomial degree, find the coefficients of the best curve (2 points out of 20)"
   ]
  },
  {
   "cell_type": "code",
   "execution_count": 6,
   "metadata": {
    "scrolled": true
   },
   "outputs": [
    {
     "name": "stdout",
     "output_type": "stream",
     "text": [
      "theta 0: 4.5615048467487185\n",
      "theta 1: 7.673417808529225e-06\n",
      "theta 2: 1.1990499281448506\n",
      "theta 3: -0.7284883155246257\n",
      "theta 4: 0.21801058727994393\n",
      "theta 5: -0.036941327779588515\n",
      "theta 6: 0.003751032559695888\n",
      "theta 7: -0.0002323890372844436\n",
      "theta 8: 8.598010683396042e-06\n",
      "theta 9: -1.7444712149220628e-07\n",
      "theta 10: 1.492767118973069e-09\n"
     ]
    }
   ],
   "source": [
    "# fit the 10 degree polynomial\n",
    "polynomial_features = PolynomialFeatures(10)\n",
    "x_poly = polynomial_features.fit_transform(x) \n",
    "model = linear_model.LinearRegression()\n",
    "model.fit(x_poly, y)\n",
    "\n",
    "# print the y-axis intersection\n",
    "print(\"theta 0:\", model.intercept_[0])\n",
    "\n",
    "# loop from 1-10 to find the other coefficients and print them\n",
    "for i in range(1,11):\n",
    "    print(\"theta {0}: {1}\".format(i, model.coef_[0][i]))"
   ]
  },
  {
   "cell_type": "markdown",
   "metadata": {},
   "source": [
    "### **2.c)** Indicate what is the expected error of your model when predicting the weight of children from their age in months. Note that the error should be in Kg, so take careful note of the units you are computing (2 out of 20)"
   ]
  },
  {
   "cell_type": "code",
   "execution_count": 10,
   "metadata": {},
   "outputs": [
    {
     "name": "stdout",
     "output_type": "stream",
     "text": [
      "Expected error: 1.158796006776049 kg\n"
     ]
    }
   ],
   "source": [
    "import math\n",
    "\n",
    "# apply the model\n",
    "y_poly_pred = model.predict(x_poly)\n",
    "\n",
    "# calculate the MSE\n",
    "mse = mean_squared_error(y, y_poly_pred)\n",
    "\n",
    "# take the square root of the MSE and print the result\n",
    "expected_error = math.sqrt(mse)\n",
    "print(\"Expected error: {0} kg\".format(expected_error))"
   ]
  }
 ],
 "metadata": {
  "anaconda-cloud": {},
  "kernelspec": {
   "display_name": "Python 3 (ipykernel)",
   "language": "python",
   "name": "python3"
  },
  "language_info": {
   "codemirror_mode": {
    "name": "ipython",
    "version": 3
   },
   "file_extension": ".py",
   "mimetype": "text/x-python",
   "name": "python",
   "nbconvert_exporter": "python",
   "pygments_lexer": "ipython3",
   "version": "3.9.12"
  }
 },
 "nbformat": 4,
 "nbformat_minor": 1
}
