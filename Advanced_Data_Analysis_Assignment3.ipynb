{
 "cells": [
  {
   "cell_type": "markdown",
   "metadata": {},
   "source": [
    "# NILS VAN DER KEMP, 55612"
   ]
  },
  {
   "cell_type": "markdown",
   "metadata": {},
   "source": [
    "# Advanced Data Analysis - Assignment 3\n",
    "\n",
    "This notebook contains the proposed solution for **Assignment 3** of the Advanced Data Analysis course.\n",
    "\n",
    "\n",
    "### DEADLINE: 9-November-2022\n",
    "\n",
    "The assignment is **individual**. You should submit your resolution on Moodle by the deadline. While doing this assignment, you can use or adapt any code from the lectures if you want. \n",
    "\n",
    "Students have three grace days that they can use for all assignments and group project, which allows them to deliver the projects late. Use these grace days carefully.\n",
    "\n",
    "[//]: # (We will be using latex for fomulas)\n",
    "\n",
    "<script type=\"text/javascript\"\n",
    "        src=\"https://cdnjs.cloudflare.com/ajax/libs/mathjax/2.7.0/MathJax.js?config=TeX-AMS_CHTML\"></script>\n",
    "        \n",
    "### Notebook Instructions\n",
    "* You only need to deliver this notebook file (notice that, a notebook file extension is filename.ipynb) - Data files must not be submitted\n",
    "* The notebook should be delivered with the outputs already available\n"
   ]
  },
  {
   "cell_type": "markdown",
   "metadata": {},
   "source": [
    "# Group I "
   ]
  },
  {
   "cell_type": "markdown",
   "metadata": {},
   "source": [
    "Nowadays, industry players are using product quality certifications to promote their products.\n",
    "Vital factor in red wine certification and quality assessment is physicochemical tests, which\n",
    "are laboratory-based and consider factors like acidity, pH level, sugar, and other chemical\n",
    "properties. We would like to determine which feature(s) can be used regression that\n",
    "best predicts the quality red wine.\n",
    "\n",
    "Structure of the dataset:\n",
    "Input variables (based on physicochemical tests):\n",
    "- Fixed Acidity: Most acids involved with wine or fixed or non-volatile (do not evaporate readily)\n",
    "- Volatile Acidity: The amount of acetic acid in wine, which at too high of levels can lead to an unpleasant, vinegar taste\n",
    "- Citric Acid: Often added to wines to increase acidity, complement a specific flavor or prevent ferric hazes\n",
    "- Residual Sugar: From the natural grape sugars left in a wine after the alcoholic fermentation finishes.\n",
    "- Chlorides: The amount of salt in the wine\n",
    "- Free Sulfur Dioxide: It prevents microbial growth and the oxidation of wine\n",
    "- Total Sulfur Dioxide: The amount of free + bound forms of SO₂\n",
    "- Density: Sweeter wines have a higher density\n",
    "- pH: Describes the level of acidity on a scale of 0–14. Most wines are always between 3–4 on the pH scale\n",
    "- Alcohol: Available in small quantities in wines makes the drinkers sociable\n",
    "- Sulphates: A wine additive that contributes to SO₂ levels and acts as an antimicrobial and antioxidant\n",
    "- Quality: which is the output variable/predictor\n",
    "\n",
    "The dataset source is taken from https://archive.ics.uci.edu/ml/datasets/wine+quality.\n"
   ]
  },
  {
   "cell_type": "code",
   "execution_count": 137,
   "metadata": {},
   "outputs": [
    {
     "data": {
      "text/html": [
       "<div>\n",
       "<style scoped>\n",
       "    .dataframe tbody tr th:only-of-type {\n",
       "        vertical-align: middle;\n",
       "    }\n",
       "\n",
       "    .dataframe tbody tr th {\n",
       "        vertical-align: top;\n",
       "    }\n",
       "\n",
       "    .dataframe thead th {\n",
       "        text-align: right;\n",
       "    }\n",
       "</style>\n",
       "<table border=\"1\" class=\"dataframe\">\n",
       "  <thead>\n",
       "    <tr style=\"text-align: right;\">\n",
       "      <th></th>\n",
       "      <th>fixed acidity</th>\n",
       "      <th>volatile acidity</th>\n",
       "      <th>citric acid</th>\n",
       "      <th>residual sugar</th>\n",
       "      <th>chlorides</th>\n",
       "      <th>free sulfur dioxide</th>\n",
       "      <th>total sulfur dioxide</th>\n",
       "      <th>density</th>\n",
       "      <th>pH</th>\n",
       "      <th>sulphates</th>\n",
       "      <th>alcohol</th>\n",
       "      <th>quality</th>\n",
       "    </tr>\n",
       "  </thead>\n",
       "  <tbody>\n",
       "    <tr>\n",
       "      <th>0</th>\n",
       "      <td>7.4</td>\n",
       "      <td>0.70</td>\n",
       "      <td>0.00</td>\n",
       "      <td>1.9</td>\n",
       "      <td>0.076</td>\n",
       "      <td>11.0</td>\n",
       "      <td>34.0</td>\n",
       "      <td>0.9978</td>\n",
       "      <td>3.51</td>\n",
       "      <td>0.56</td>\n",
       "      <td>9.4</td>\n",
       "      <td>5</td>\n",
       "    </tr>\n",
       "    <tr>\n",
       "      <th>1</th>\n",
       "      <td>7.8</td>\n",
       "      <td>0.88</td>\n",
       "      <td>0.00</td>\n",
       "      <td>2.6</td>\n",
       "      <td>0.098</td>\n",
       "      <td>25.0</td>\n",
       "      <td>67.0</td>\n",
       "      <td>0.9968</td>\n",
       "      <td>3.20</td>\n",
       "      <td>0.68</td>\n",
       "      <td>9.8</td>\n",
       "      <td>5</td>\n",
       "    </tr>\n",
       "    <tr>\n",
       "      <th>2</th>\n",
       "      <td>7.8</td>\n",
       "      <td>0.76</td>\n",
       "      <td>0.04</td>\n",
       "      <td>2.3</td>\n",
       "      <td>0.092</td>\n",
       "      <td>15.0</td>\n",
       "      <td>54.0</td>\n",
       "      <td>0.9970</td>\n",
       "      <td>3.26</td>\n",
       "      <td>0.65</td>\n",
       "      <td>9.8</td>\n",
       "      <td>5</td>\n",
       "    </tr>\n",
       "    <tr>\n",
       "      <th>3</th>\n",
       "      <td>11.2</td>\n",
       "      <td>0.28</td>\n",
       "      <td>0.56</td>\n",
       "      <td>1.9</td>\n",
       "      <td>0.075</td>\n",
       "      <td>17.0</td>\n",
       "      <td>60.0</td>\n",
       "      <td>0.9980</td>\n",
       "      <td>3.16</td>\n",
       "      <td>0.58</td>\n",
       "      <td>9.8</td>\n",
       "      <td>6</td>\n",
       "    </tr>\n",
       "    <tr>\n",
       "      <th>4</th>\n",
       "      <td>7.4</td>\n",
       "      <td>0.70</td>\n",
       "      <td>0.00</td>\n",
       "      <td>1.9</td>\n",
       "      <td>0.076</td>\n",
       "      <td>11.0</td>\n",
       "      <td>34.0</td>\n",
       "      <td>0.9978</td>\n",
       "      <td>3.51</td>\n",
       "      <td>0.56</td>\n",
       "      <td>9.4</td>\n",
       "      <td>5</td>\n",
       "    </tr>\n",
       "  </tbody>\n",
       "</table>\n",
       "</div>"
      ],
      "text/plain": [
       "   fixed acidity  volatile acidity  citric acid  residual sugar  chlorides  \\\n",
       "0            7.4              0.70         0.00             1.9      0.076   \n",
       "1            7.8              0.88         0.00             2.6      0.098   \n",
       "2            7.8              0.76         0.04             2.3      0.092   \n",
       "3           11.2              0.28         0.56             1.9      0.075   \n",
       "4            7.4              0.70         0.00             1.9      0.076   \n",
       "\n",
       "   free sulfur dioxide  total sulfur dioxide  density    pH  sulphates  \\\n",
       "0                 11.0                  34.0   0.9978  3.51       0.56   \n",
       "1                 25.0                  67.0   0.9968  3.20       0.68   \n",
       "2                 15.0                  54.0   0.9970  3.26       0.65   \n",
       "3                 17.0                  60.0   0.9980  3.16       0.58   \n",
       "4                 11.0                  34.0   0.9978  3.51       0.56   \n",
       "\n",
       "   alcohol  quality  \n",
       "0      9.4        5  \n",
       "1      9.8        5  \n",
       "2      9.8        5  \n",
       "3      9.8        6  \n",
       "4      9.4        5  "
      ]
     },
     "execution_count": 137,
     "metadata": {},
     "output_type": "execute_result"
    }
   ],
   "source": [
    "# This code cell does not need to be changed\n",
    "import os\n",
    "import pandas as pd\n",
    "from sklearn import linear_model\n",
    "\n",
    "dataFileName = \"winequality-red.csv\"\n",
    "dataDF = pd.read_csv(dataFileName)\n",
    "\n",
    "dataDF.head()"
   ]
  },
  {
   "cell_type": "markdown",
   "metadata": {},
   "source": [
    "## Question 1 (1 point out of 20)"
   ]
  },
  {
   "cell_type": "markdown",
   "metadata": {},
   "source": [
    "Identify the variables that are more linearly correlated with the quality of red wine"
   ]
  },
  {
   "cell_type": "code",
   "execution_count": 138,
   "metadata": {},
   "outputs": [
    {
     "data": {
      "text/html": [
       "<div>\n",
       "<style scoped>\n",
       "    .dataframe tbody tr th:only-of-type {\n",
       "        vertical-align: middle;\n",
       "    }\n",
       "\n",
       "    .dataframe tbody tr th {\n",
       "        vertical-align: top;\n",
       "    }\n",
       "\n",
       "    .dataframe thead th {\n",
       "        text-align: right;\n",
       "    }\n",
       "</style>\n",
       "<table border=\"1\" class=\"dataframe\">\n",
       "  <thead>\n",
       "    <tr style=\"text-align: right;\">\n",
       "      <th></th>\n",
       "      <th>quality</th>\n",
       "    </tr>\n",
       "  </thead>\n",
       "  <tbody>\n",
       "    <tr>\n",
       "      <th>quality</th>\n",
       "      <td>1.000000</td>\n",
       "    </tr>\n",
       "    <tr>\n",
       "      <th>alcohol</th>\n",
       "      <td>0.476166</td>\n",
       "    </tr>\n",
       "    <tr>\n",
       "      <th>volatile acidity</th>\n",
       "      <td>-0.390558</td>\n",
       "    </tr>\n",
       "    <tr>\n",
       "      <th>sulphates</th>\n",
       "      <td>0.251397</td>\n",
       "    </tr>\n",
       "    <tr>\n",
       "      <th>citric acid</th>\n",
       "      <td>0.226373</td>\n",
       "    </tr>\n",
       "    <tr>\n",
       "      <th>total sulfur dioxide</th>\n",
       "      <td>-0.185100</td>\n",
       "    </tr>\n",
       "    <tr>\n",
       "      <th>density</th>\n",
       "      <td>-0.174919</td>\n",
       "    </tr>\n",
       "    <tr>\n",
       "      <th>chlorides</th>\n",
       "      <td>-0.128907</td>\n",
       "    </tr>\n",
       "    <tr>\n",
       "      <th>fixed acidity</th>\n",
       "      <td>0.124052</td>\n",
       "    </tr>\n",
       "    <tr>\n",
       "      <th>pH</th>\n",
       "      <td>-0.057731</td>\n",
       "    </tr>\n",
       "    <tr>\n",
       "      <th>free sulfur dioxide</th>\n",
       "      <td>-0.050656</td>\n",
       "    </tr>\n",
       "    <tr>\n",
       "      <th>residual sugar</th>\n",
       "      <td>0.013732</td>\n",
       "    </tr>\n",
       "  </tbody>\n",
       "</table>\n",
       "</div>"
      ],
      "text/plain": [
       "                       quality\n",
       "quality               1.000000\n",
       "alcohol               0.476166\n",
       "volatile acidity     -0.390558\n",
       "sulphates             0.251397\n",
       "citric acid           0.226373\n",
       "total sulfur dioxide -0.185100\n",
       "density              -0.174919\n",
       "chlorides            -0.128907\n",
       "fixed acidity         0.124052\n",
       "pH                   -0.057731\n",
       "free sulfur dioxide  -0.050656\n",
       "residual sugar        0.013732"
      ]
     },
     "metadata": {},
     "output_type": "display_data"
    }
   ],
   "source": [
    "# create cross table, showing the correlations between all variables\n",
    "corr_table = dataDF.corr()\n",
    "\n",
    "# add a column with the absolute correlation values of all correlations with quality\n",
    "corr_table[\"abs_quality\"] = corr_table[\"quality\"].abs()\n",
    "\n",
    "# display all correlations with quality, descendingly sorted by the absolute correlation values\n",
    "display(pd.DataFrame(corr_table.sort_values(\"abs_quality\", ascending = False)[\"quality\"]))"
   ]
  },
  {
   "cell_type": "markdown",
   "metadata": {},
   "source": [
    "## Question 2 ( 2 points out of 20)"
   ]
  },
  {
   "cell_type": "markdown",
   "metadata": {},
   "source": [
    "Estimate the true error of a model that uses the top 4 variables more correlated with the quality of red wine"
   ]
  },
  {
   "cell_type": "code",
   "execution_count": 139,
   "metadata": {},
   "outputs": [
    {
     "name": "stdout",
     "output_type": "stream",
     "text": [
      "Estimated true error (test error): 0.4439518038537466\n"
     ]
    }
   ],
   "source": [
    "from sklearn.model_selection import cross_val_score\n",
    "\n",
    "# write a function to get the negative mean squared error of a model\n",
    "def regression(input, quality):\n",
    "    model = linear_model.LinearRegression()\n",
    "    return -1 * cross_val_score(model, input, quality, scoring = \"neg_mean_squared_error\", cv = 10).mean()\n",
    "\n",
    "# apply this function to the dataframe, using the 4 highest correlated variables as input values\n",
    "test_error = regression(dataDF[[\"alcohol\", \"volatile acidity\", \"sulphates\", \"citric acid\"]], dataDF[[\"quality\"]])\n",
    "print(\"Estimated true error (test error): {0}\".format(test_error))"
   ]
  },
  {
   "cell_type": "markdown",
   "metadata": {},
   "source": [
    "## Question 3 ( 4 points out of 20)"
   ]
  },
  {
   "cell_type": "markdown",
   "metadata": {},
   "source": [
    "Evaluate two other models of your choice and compare/discuss their expected errors? (explain your criteria for each model tested)"
   ]
  },
  {
   "cell_type": "markdown",
   "metadata": {},
   "source": [
    "**Model selection:** I want to check the influence of transferring the model to a higher degree and of the number of correlated variables used for the model. Therefore, I build a Simple Linear Regression Model and a Polynomial Linear Regression Model, both using only the highest correlated variable \"alcohol\" and compare these models to the Multiple Linear Regression Model from Question 2. To decide, which degree to use best for the Polynomial Model, I first look for the degree with the lowest test error in the following."
   ]
  },
  {
   "cell_type": "code",
   "execution_count": 140,
   "metadata": {},
   "outputs": [
    {
     "name": "stdout",
     "output_type": "stream",
     "text": [
      "Degree with lowest test error in Polynomial Linear Regression:\n"
     ]
    },
    {
     "data": {
      "text/html": [
       "<div>\n",
       "<style scoped>\n",
       "    .dataframe tbody tr th:only-of-type {\n",
       "        vertical-align: middle;\n",
       "    }\n",
       "\n",
       "    .dataframe tbody tr th {\n",
       "        vertical-align: top;\n",
       "    }\n",
       "\n",
       "    .dataframe thead th {\n",
       "        text-align: right;\n",
       "    }\n",
       "</style>\n",
       "<table border=\"1\" class=\"dataframe\">\n",
       "  <thead>\n",
       "    <tr style=\"text-align: right;\">\n",
       "      <th></th>\n",
       "      <th>degree</th>\n",
       "      <th>test_error</th>\n",
       "    </tr>\n",
       "  </thead>\n",
       "  <tbody>\n",
       "    <tr>\n",
       "      <th>2</th>\n",
       "      <td>3</td>\n",
       "      <td>0.507529</td>\n",
       "    </tr>\n",
       "  </tbody>\n",
       "</table>\n",
       "</div>"
      ],
      "text/plain": [
       "   degree  test_error\n",
       "2       3    0.507529"
      ]
     },
     "metadata": {},
     "output_type": "display_data"
    }
   ],
   "source": [
    "from sklearn.preprocessing import PolynomialFeatures\n",
    "import numpy as np\n",
    "import sklearn\n",
    "\n",
    "# create a dataframe with degrees 1 to 10\n",
    "one_to_ten = pd.DataFrame({\"degree\" : range(1, 11)})\n",
    "\n",
    "# write a function to define the input data, used to fit the Polynomial Linear Regression Model\n",
    "def trans_data_plr(degree):\n",
    "    polynomial_features = PolynomialFeatures(degree)\n",
    "    poly_trans = polynomial_features.fit_transform(dataDF[[\"alcohol\"]])\n",
    "    input_df = pd.DataFrame(poly_trans)\n",
    "    return input_df\n",
    "\n",
    "model = linear_model.LinearRegression()\n",
    "\n",
    "# append the dataframe with the negative mean squared error per degree, transform it into a positive value and display the lowest error\n",
    "one_to_ten[\"test_error\"] = one_to_ten[\"degree\"].apply(lambda x: cross_val_score(model, trans_data_plr(x), dataDF[[\"quality\"]], scoring = \"neg_mean_squared_error\", cv = 10).mean())\n",
    "one_to_ten[\"test_error\"] = one_to_ten[\"test_error\"]*-1\n",
    "print(\"Degree with lowest test error in Polynomial Linear Regression:\")\n",
    "display(one_to_ten.sort_values(\"test_error\").head(1))"
   ]
  },
  {
   "cell_type": "code",
   "execution_count": 141,
   "metadata": {},
   "outputs": [
    {
     "name": "stdout",
     "output_type": "stream",
     "text": [
      "Estimated true error (test error) with Multiple Linear Regression: 0.4439518038537466\n",
      "Estimated true error (test error) with Simple Linear Regression: 0.5101707592498947\n",
      "Estimated true error (test error) with Polynomial Linear Regression (3rd degree): 0.5075293412261697\n"
     ]
    }
   ],
   "source": [
    "# show the error of the Multiple Linear Regression Model from Question 2 again\n",
    "test_error_ml = regression(dataDF[[\"alcohol\", \"volatile acidity\", \"sulphates\", \"citric acid\"]], dataDF[[\"quality\"]])\n",
    "print(\"Estimated true error (test error) with Multiple Linear Regression: {0}\".format(test_error_ml))\n",
    "\n",
    "# show the error of the Simple Linear Regression Model\n",
    "test_error_sl = regression(dataDF[[\"alcohol\"]], dataDF[[\"quality\"]])\n",
    "print(\"Estimated true error (test error) with Simple Linear Regression: {0}\".format(test_error_sl))\n",
    "\n",
    "# define the degree used in the Polynomial Regression\n",
    "polynomial_features = PolynomialFeatures(degree = 3)\n",
    "\n",
    "# calculate and show the individual test errors of both models\n",
    "test_error_sp = regression(polynomial_features.fit_transform(dataDF[[\"alcohol\"]]), dataDF[[\"quality\"]])\n",
    "print(\"Estimated true error (test error) with Polynomial Linear Regression (3rd degree): {0}\".format(test_error_sp))"
   ]
  },
  {
   "cell_type": "markdown",
   "metadata": {},
   "source": [
    "**Evaluation:** As a result, you can see that in this case, the influence of the amount of variables used is higher than the influence of the degree used. Even the Polynomial Linear Regression Model with the best degree shows a much greater error than Multiple Linear Regression with the top-4 highest correlated variables. Compared to the Simple Linear Regression, the 3rd degree Polynomial error is at least slightly lower."
   ]
  },
  {
   "cell_type": "markdown",
   "metadata": {},
   "source": [
    "## Question 4 ( 3 points out of 20)"
   ]
  },
  {
   "cell_type": "markdown",
   "metadata": {},
   "source": [
    "Based on the best model identified previously, build a final model, report the formula (coefficients found) and evaluate it. On average, how far is your predictions from the actual values?"
   ]
  },
  {
   "cell_type": "code",
   "execution_count": 142,
   "metadata": {},
   "outputs": [
    {
     "name": "stdout",
     "output_type": "stream",
     "text": [
      "Coefficients: [[ 0.29578431 -1.39079778  0.60425558 -0.168485  ]], Intercept: [2.92287815]\n",
      "Average difference between predictions and actual values: 0.5360662651119387\n"
     ]
    }
   ],
   "source": [
    "from sklearn.model_selection import train_test_split\n",
    "\n",
    "# build a final model by splitting the data into train and test data\n",
    "train_set, test_set = train_test_split(dataDF, test_size = 0.2, random_state = 10)\n",
    "model = linear_model.LinearRegression()\n",
    "model.fit(train_set[[\"alcohol\", \"volatile acidity\", \"sulphates\", \"citric acid\"]], train_set[[\"quality\"]])\n",
    "\n",
    "# print the model's coefficients and the intercept\n",
    "print(\"Coefficients: {0}, Intercept: {1}\".format(model.coef_, model.intercept_))\n",
    "\n",
    "# compute and print the average difference between the predictions and actual values\n",
    "y_pred_test = model.predict(test_set[[\"alcohol\", \"volatile acidity\", \"sulphates\", \"citric acid\"]])\n",
    "diff = (test_set[[\"quality\"]] - y_pred_test).abs().mean()\n",
    "print(\"Average difference between predictions and actual values:\", diff[0])"
   ]
  },
  {
   "cell_type": "markdown",
   "metadata": {},
   "source": [
    "# Group II"
   ]
  },
  {
   "cell_type": "markdown",
   "metadata": {},
   "source": [
    "The file internet.csv contains the estimated number of internet users (in millions) for each year from 1995\n",
    "through 2012. For answering the following questions, you can use or adapt any code from the lectures or exercises\n",
    "if you want.\n"
   ]
  },
  {
   "cell_type": "code",
   "execution_count": 143,
   "metadata": {},
   "outputs": [],
   "source": [
    "dataFileName = \"internet.csv\"\n",
    "dataDF = pd.read_csv(dataFileName)"
   ]
  },
  {
   "cell_type": "code",
   "execution_count": 144,
   "metadata": {},
   "outputs": [
    {
     "data": {
      "text/html": [
       "<div>\n",
       "<style scoped>\n",
       "    .dataframe tbody tr th:only-of-type {\n",
       "        vertical-align: middle;\n",
       "    }\n",
       "\n",
       "    .dataframe tbody tr th {\n",
       "        vertical-align: top;\n",
       "    }\n",
       "\n",
       "    .dataframe thead th {\n",
       "        text-align: right;\n",
       "    }\n",
       "</style>\n",
       "<table border=\"1\" class=\"dataframe\">\n",
       "  <thead>\n",
       "    <tr style=\"text-align: right;\">\n",
       "      <th></th>\n",
       "      <th>year</th>\n",
       "      <th>n_users</th>\n",
       "    </tr>\n",
       "  </thead>\n",
       "  <tbody>\n",
       "    <tr>\n",
       "      <th>0</th>\n",
       "      <td>0</td>\n",
       "      <td>16</td>\n",
       "    </tr>\n",
       "    <tr>\n",
       "      <th>1</th>\n",
       "      <td>1</td>\n",
       "      <td>36</td>\n",
       "    </tr>\n",
       "    <tr>\n",
       "      <th>2</th>\n",
       "      <td>2</td>\n",
       "      <td>70</td>\n",
       "    </tr>\n",
       "    <tr>\n",
       "      <th>3</th>\n",
       "      <td>3</td>\n",
       "      <td>147</td>\n",
       "    </tr>\n",
       "    <tr>\n",
       "      <th>4</th>\n",
       "      <td>4</td>\n",
       "      <td>248</td>\n",
       "    </tr>\n",
       "  </tbody>\n",
       "</table>\n",
       "</div>"
      ],
      "text/plain": [
       "   year  n_users\n",
       "0     0       16\n",
       "1     1       36\n",
       "2     2       70\n",
       "3     3      147\n",
       "4     4      248"
      ]
     },
     "execution_count": 144,
     "metadata": {},
     "output_type": "execute_result"
    }
   ],
   "source": [
    "dataset_df = pd.DataFrame()\n",
    "dataset_df['year'] = dataDF.index\n",
    "dataset_df['n_users'] = dataDF['n_users']\n",
    "dataset_df.head()"
   ]
  },
  {
   "cell_type": "markdown",
   "metadata": {},
   "source": [
    "## Question 1 (5 points out of 20)"
   ]
  },
  {
   "attachments": {
    "image.png": {
     "image/png": "[encoded data removed]"
    }
   },
   "cell_type": "markdown",
   "metadata": {},
   "source": [
    "In lecture 6, we used the logistic function with an offset parameter to better fit the curve to some arbitrary starting point:\n",
    "\n",
    "![image.png](attachment:image.png)\n",
    "\n",
    "Fit this model to the data and show to the plots of the data and the curve predicted by the\n",
    "model. Additionally, display the parameters found for the logistic model and explain the meaning of each one.  \n",
    "\n",
    "Note: I suggest you use these starting values for the minimization: L = 1000, x0 = 10, k = 0.1 and\n",
    "o = −300. If you use other values the minimization may not converge properly.\n"
   ]
  },
  {
   "cell_type": "code",
   "execution_count": 145,
   "metadata": {},
   "outputs": [
    {
     "data": {
      "text/plain": [
       "[<matplotlib.lines.Line2D at 0x1ad29c17790>]"
      ]
     },
     "execution_count": 145,
     "metadata": {},
     "output_type": "execute_result"
    },
    {
     "data": {
      "image/png": "[encoded data removed]",
      "text/plain": [
       "<Figure size 720x360 with 1 Axes>"
      ]
     },
     "metadata": {
      "needs_background": "light"
     },
     "output_type": "display_data"
    }
   ],
   "source": [
    "from scipy.optimize import minimize\n",
    "import matplotlib.pyplot as plt\n",
    "import numpy as np\n",
    "\n",
    "# build the logistic function\n",
    "def logistic(x, x0, L, k):\n",
    "    return L/(1 + np.exp(-k*(x-x0)))\n",
    "\n",
    "# build the cost function to minimize the mean squared error\n",
    "def log_cost(params, data):\n",
    "    x0,L,k,offset = params\n",
    "    pred = logistic(data.iloc[:,0], x0, L, k) + offset\n",
    "    return np.mean((pred-data.iloc[:,1])**2)\n",
    "\n",
    "# minimize the starting values given\n",
    "st_params = [10,1000,0.1,-300]\n",
    "plt.figure(figsize = (10,5))\n",
    "res = minimize(log_cost, st_params, args = (dataset_df))\n",
    "x0,L,k,offset = res.x\n",
    "\n",
    "# predict the values, using the logistic function\n",
    "pred = logistic(dataset_df.iloc[:,0], x0, L, k) + offset\n",
    "\n",
    "# plot the logistic model and the initial values\n",
    "plt.plot(dataset_df.iloc[:,0], dataset_df.iloc[:,1], \".\", c = \"darkblue\")\n",
    "plt.plot(dataset_df.iloc[:,0], pred, c = \"skyblue\")"
   ]
  },
  {
   "cell_type": "code",
   "execution_count": 146,
   "metadata": {
    "scrolled": true
   },
   "outputs": [
    {
     "name": "stdout",
     "output_type": "stream",
     "text": [
      "x0 = 15.221308299993485, L = 6462.337476195807, k  = 0.18871281563114084, offset = -384.73963211296353\n"
     ]
    }
   ],
   "source": [
    "# show the respective parameters\n",
    "print(\"x0 = {0}, L = {1}, k  = {2}, offset = {3}\".format(x0, L, k, offset))"
   ]
  },
  {
   "cell_type": "markdown",
   "metadata": {},
   "source": [
    "**Definitions:**\n",
    "\n",
    "**x0:** The x-value, that builds the midpoint of the graph\n",
    "\n",
    "**L:** The maximum y-value of the function\n",
    "\n",
    "**k:** The slope factor, i.e. growth rate of the logistic curve\n",
    "\n",
    "**offset:** The y-value, where the logistic function starts"
   ]
  },
  {
   "cell_type": "markdown",
   "metadata": {},
   "source": [
    "## Question 2 (2 points out of 20)"
   ]
  },
  {
   "cell_type": "markdown",
   "metadata": {},
   "source": [
    "Compute and plot the residuals of the model found. What can we tell about the model identified based on the Residual Plot? Is a logistic function a good option to model users' growth over time in our dataset?"
   ]
  },
  {
   "cell_type": "code",
   "execution_count": 147,
   "metadata": {},
   "outputs": [
    {
     "data": {
      "text/plain": [
       "Text(0, 0.5, 'Residual Value')"
      ]
     },
     "execution_count": 147,
     "metadata": {},
     "output_type": "execute_result"
    },
    {
     "data": {
      "image/png": "[encoded data removed]",
      "text/plain": [
       "<Figure size 432x288 with 1 Axes>"
      ]
     },
     "metadata": {
      "needs_background": "light"
     },
     "output_type": "display_data"
    }
   ],
   "source": [
    "# define the \"pred\"-variable once again\n",
    "pred = logistic(dataset_df.iloc[:,0],x0,L,k) + offset\n",
    "\n",
    "# calculate the residuals and store them in a new variable\n",
    "residual = dataset_df.iloc[:,1] - pred\n",
    "\n",
    "# plot the residual values\n",
    "plt.scatter(pred, residual, c = \"darkblue\")\n",
    "plt.xlabel(\"Predicted\")\n",
    "plt.ylabel(\"Residual Value\")"
   ]
  },
  {
   "cell_type": "markdown",
   "metadata": {},
   "source": [
    "**Evaluation:** I think, that the logistic model used is a good option to model users' growth over time, since it fits the data pretty well. The greatest deviation from our data observed is a residual value of around 139 users, which is relatively low, compared to the range of values in our dataset. Also, when you think about it logically, it makes sense to use a logistic function, since the user growth has been increasing exponentially but has to flatten at some point in the future (after 2012)."
   ]
  },
  {
   "cell_type": "markdown",
   "metadata": {},
   "source": [
    "## Question 3 (3 points out of 20)"
   ]
  },
  {
   "cell_type": "markdown",
   "metadata": {},
   "source": [
    "Compute the 95% confidence interval for its parameters under the assumption that the random error affecting the data points comes from the same distribution for all points."
   ]
  },
  {
   "cell_type": "code",
   "execution_count": 148,
   "metadata": {},
   "outputs": [
    {
     "name": "stdout",
     "output_type": "stream",
     "text": [
      "With 95% confidence...\n",
      "...x0 lies between 14.135285046741474 and 15.924993922308655\n",
      "...L lies between 5583.5020381403465 and 6978.276385327205\n",
      "...k lies between 0.1712248584313512 and 0.21582792704620832\n",
      "...the offset lies between -525.6304072825808 and -260.44520933221946\n"
     ]
    }
   ],
   "source": [
    "# define the number of replicas used in the for loop (to avoid a high execution time, I only chose 10)\n",
    "replicas = 10\n",
    "\n",
    "# build a new dataframe with the logistic parameters\n",
    "parameters = pd.DataFrame(index = [\"x0\",\"L\",\"k\",\"offset\"]) \n",
    "\n",
    "# build the for loop and create 10 replicas of each of the parameters\n",
    "for _ in range(replicas):\n",
    "    rep_data = dataset_df.copy() \n",
    "    rep_data.iloc[:,1] = pred + residual * np.random.normal(size = dataset_df.shape[0])\n",
    "    res = minimize(log_cost, st_params, args = (rep_data))\n",
    "    x0, L, k, offset = res.x    \n",
    "    data = {\"x0\":x0,\"L\":L,\"k\":k,\"offset\":offset}\n",
    "    ds_para = pd.Series(data)\n",
    "    parameters = pd.concat([parameters, ds_para], axis = 1) \n",
    "    \n",
    "# compute the 2.5th percentile and the 97.5 percentile from the previously built set of parameters to build the 95% confidence interval \n",
    "parameters[\"2.5 percentile\"] = parameters.quantile(0.025, axis = 1, interpolation = \"midpoint\")\n",
    "parameters[\"97.5 percentile\"] = parameters.quantile(0.975, axis = 1, interpolation = \"midpoint\")\n",
    "\n",
    "# print the limits of the 95% confidence interval\n",
    "print(\"With 95% confidence...\\n...x0 lies between {0} and {1}\".format(parameters[\"2.5 percentile\"][0], parameters[\"97.5 percentile\"][0]))\n",
    "print(\"...L lies between {0} and {1}\".format(parameters[\"2.5 percentile\"][1], parameters[\"97.5 percentile\"][1]))\n",
    "print(\"...k lies between {0} and {1}\".format(parameters[\"2.5 percentile\"][2], parameters[\"97.5 percentile\"][2]))\n",
    "print(\"...the offset lies between {0} and {1}\".format(parameters[\"2.5 percentile\"][3], parameters[\"97.5 percentile\"][3]))"
   ]
  }
 ],
 "metadata": {
  "anaconda-cloud": {},
  "kernelspec": {
   "display_name": "Python 3 (ipykernel)",
   "language": "python",
   "name": "python3"
  },
  "language_info": {
   "codemirror_mode": {
    "name": "ipython",
    "version": 3
   },
   "file_extension": ".py",
   "mimetype": "text/x-python",
   "name": "python",
   "nbconvert_exporter": "python",
   "pygments_lexer": "ipython3",
   "version": "3.9.12"
  }
 },
 "nbformat": 4,
 "nbformat_minor": 4
}
